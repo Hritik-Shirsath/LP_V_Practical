{
  "nbformat": 4,
  "nbformat_minor": 0,
  "metadata": {
    "colab": {
      "provenance": []
    },
    "kernelspec": {
      "name": "python3",
      "display_name": "Python 3"
    },
    "language_info": {
      "name": "python"
    }
  },
  "cells": [
    {
      "cell_type": "markdown",
      "source": [
        "**Implement HPC application for AI/ML domain.**"
      ],
      "metadata": {
        "id": "REYsyJIq0QNu"
      }
    },
    {
      "cell_type": "code",
      "source": [
        "import tensorflow as tf\n",
        "from tensorflow.keras import layers"
      ],
      "metadata": {
        "id": "RtzdoRRp1p8D"
      },
      "execution_count": 18,
      "outputs": []
    },
    {
      "cell_type": "code",
      "source": [
        "# Create a CNN model\n",
        "model = tf.keras.Sequential()\n",
        "model.add(layers.Conv2D(32, (3, 3), activation='relu', input_shape=(28, 28, 1)))\n",
        "model.add(layers.MaxPooling2D((2, 2)))\n",
        "model.add(layers.Conv2D(64, (3, 3), activation='relu'))\n",
        "model.add(layers.MaxPooling2D((2, 2)))\n",
        "model.add(layers.Conv2D(64, (3, 3), activation='relu'))\n",
        "model.add(layers.Flatten())\n",
        "model.add(layers.Dense(64, activation='relu'))\n",
        "model.add(layers.Dense(10))"
      ],
      "metadata": {
        "id": "UIZbDY-z1sHi"
      },
      "execution_count": 19,
      "outputs": []
    },
    {
      "cell_type": "code",
      "source": [
        "# Load and preprocess the MNIST dataset\n",
        "mnist = tf.keras.datasets.mnist\n",
        "(train_images, train_labels), (test_images, test_labels) = mnist.load_data()\n",
        "train_images = train_images.reshape((60000, 28, 28, 1))\n",
        "train_images = train_images.astype('float32') / 255\n",
        "test_images = test_images.reshape((10000, 28, 28, 1))\n",
        "test_images = test_images.astype('float32') / 255"
      ],
      "metadata": {
        "id": "7JpXT-3i1uJe"
      },
      "execution_count": 20,
      "outputs": []
    },
    {
      "cell_type": "code",
      "source": [
        "# Compile and train the model\n",
        "model.compile(optimizer='adam',\n",
        "              loss=tf.keras.losses.SparseCategoricalCrossentropy(from_logits=True),\n",
        "              metrics=['accuracy'])\n",
        "model.fit(train_images, train_labels, epochs=5, batch_size=64)"
      ],
      "metadata": {
        "colab": {
          "base_uri": "https://localhost:8080/"
        },
        "id": "bQTcoAuk1wUD",
        "outputId": "48c65886-6fa4-4f74-d062-02e8ac818203"
      },
      "execution_count": 21,
      "outputs": [
        {
          "output_type": "stream",
          "name": "stdout",
          "text": [
            "Epoch 1/5\n",
            "938/938 [==============================] - 62s 65ms/step - loss: 0.1875 - accuracy: 0.9437\n",
            "Epoch 2/5\n",
            "938/938 [==============================] - 60s 64ms/step - loss: 0.0509 - accuracy: 0.9837\n",
            "Epoch 3/5\n",
            "938/938 [==============================] - 60s 64ms/step - loss: 0.0353 - accuracy: 0.9887\n",
            "Epoch 4/5\n",
            "938/938 [==============================] - 59s 63ms/step - loss: 0.0281 - accuracy: 0.9907\n",
            "Epoch 5/5\n",
            "938/938 [==============================] - 60s 64ms/step - loss: 0.0228 - accuracy: 0.9926\n"
          ]
        },
        {
          "output_type": "execute_result",
          "data": {
            "text/plain": [
              "<keras.callbacks.History at 0x7f9f3e947370>"
            ]
          },
          "metadata": {},
          "execution_count": 21
        }
      ]
    },
    {
      "cell_type": "code",
      "source": [
        "# Evaluate the model\n",
        "test_loss, test_acc = model.evaluate(test_images, test_labels)\n",
        "print('Test accuracy:', test_acc)"
      ],
      "metadata": {
        "colab": {
          "base_uri": "https://localhost:8080/"
        },
        "id": "HNIG5ibJ1yrK",
        "outputId": "b1fbb23d-2b3c-4062-eece-988b328251f5"
      },
      "execution_count": 22,
      "outputs": [
        {
          "output_type": "stream",
          "name": "stdout",
          "text": [
            "313/313 [==============================] - 3s 10ms/step - loss: 0.0332 - accuracy: 0.9898\n",
            "Test accuracy: 0.989799976348877\n"
          ]
        }
      ]
    },
    {
      "cell_type": "markdown",
      "source": [
        "**Linear regression by using Deep Neural network: Implement Boston housing price prediction problem by Linear regression using Deep Neural network. Use Boston House price prediction dataset.**"
      ],
      "metadata": {
        "id": "YtU-RpSG4vmg"
      }
    },
    {
      "cell_type": "code",
      "source": [
        "import numpy as np\n",
        "from sklearn.datasets import fetch_openml\n",
        "from sklearn.model_selection import train_test_split\n",
        "from sklearn.preprocessing import StandardScaler\n",
        "from tensorflow.keras.models import Sequential\n",
        "from tensorflow.keras.layers import Dense\n",
        "from tensorflow.keras.optimizers import Adam"
      ],
      "metadata": {
        "id": "Wz4_2m0B4sZW"
      },
      "execution_count": 25,
      "outputs": []
    },
    {
      "cell_type": "code",
      "source": [
        "# Load the Boston Housing dataset\n",
        "boston = fetch_openml(name='boston', version=1, as_frame=True)"
      ],
      "metadata": {
        "colab": {
          "base_uri": "https://localhost:8080/"
        },
        "id": "FZoRdbQI46KR",
        "outputId": "aeef49a0-ecbf-4436-835d-d6b8fdf24699"
      },
      "execution_count": 26,
      "outputs": [
        {
          "output_type": "stream",
          "name": "stderr",
          "text": [
            "/usr/local/lib/python3.10/dist-packages/sklearn/datasets/_openml.py:968: FutureWarning: The default value of `parser` will change from `'liac-arff'` to `'auto'` in 1.4. You can set `parser='auto'` to silence this warning. Therefore, an `ImportError` will be raised from 1.4 if the dataset is dense and pandas is not installed. Note that the pandas parser may return different data types. See the Notes Section in fetch_openml's API doc for details.\n",
            "  warn(\n"
          ]
        }
      ]
    },
    {
      "cell_type": "code",
      "source": [
        "# Split the dataset into features and target\n",
        "X = boston.data\n",
        "y = boston.target"
      ],
      "metadata": {
        "id": "ItB1ex_s5KwO"
      },
      "execution_count": 27,
      "outputs": []
    },
    {
      "cell_type": "code",
      "source": [
        "# Split the data into training and testing sets\n",
        "X_train, X_test, y_train, y_test = train_test_split(X, y, test_size=0.2, random_state=42)"
      ],
      "metadata": {
        "id": "WwO4ANoc5NgG"
      },
      "execution_count": 28,
      "outputs": []
    },
    {
      "cell_type": "code",
      "source": [
        "# Scale the data for better convergence\n",
        "scaler = StandardScaler()\n",
        "X_train = scaler.fit_transform(X_train)\n",
        "X_test = scaler.transform(X_test)"
      ],
      "metadata": {
        "id": "P7cfYwYK5QHG"
      },
      "execution_count": 29,
      "outputs": []
    },
    {
      "cell_type": "code",
      "source": [
        "# Define the model\n",
        "model = Sequential()\n",
        "model.add(Dense(1, input_shape=(X_train.shape[1],)))"
      ],
      "metadata": {
        "id": "W4qWbPKx5SFM"
      },
      "execution_count": 30,
      "outputs": []
    },
    {
      "cell_type": "code",
      "source": [
        "# Compile the model\n",
        "model.compile(optimizer=Adam(learning_rate=0.001), loss='mean_squared_error')"
      ],
      "metadata": {
        "id": "CKTaNGzV5UE2"
      },
      "execution_count": 36,
      "outputs": []
    },
    {
      "cell_type": "code",
      "source": [
        "# Train the model\n",
        "model.fit(X_train, y_train, batch_size=32, epochs=100, verbose=1)"
      ],
      "metadata": {
        "colab": {
          "base_uri": "https://localhost:8080/"
        },
        "id": "bJie6B5x5Vtz",
        "outputId": "91f2838a-93da-4e99-a8f9-c63cf1831992"
      },
      "execution_count": 37,
      "outputs": [
        {
          "output_type": "stream",
          "name": "stdout",
          "text": [
            "Epoch 1/100\n",
            "13/13 [==============================] - 0s 2ms/step - loss: 507.1542\n",
            "Epoch 2/100\n",
            "13/13 [==============================] - 0s 2ms/step - loss: 506.3831\n",
            "Epoch 3/100\n",
            "13/13 [==============================] - 0s 2ms/step - loss: 505.6733\n",
            "Epoch 4/100\n",
            "13/13 [==============================] - 0s 2ms/step - loss: 504.9277\n",
            "Epoch 5/100\n",
            "13/13 [==============================] - 0s 2ms/step - loss: 504.1768\n",
            "Epoch 6/100\n",
            "13/13 [==============================] - 0s 2ms/step - loss: 503.4717\n",
            "Epoch 7/100\n",
            "13/13 [==============================] - 0s 2ms/step - loss: 502.7549\n",
            "Epoch 8/100\n",
            "13/13 [==============================] - 0s 2ms/step - loss: 502.0284\n",
            "Epoch 9/100\n",
            "13/13 [==============================] - 0s 2ms/step - loss: 501.3124\n",
            "Epoch 10/100\n",
            "13/13 [==============================] - 0s 2ms/step - loss: 500.6206\n",
            "Epoch 11/100\n",
            "13/13 [==============================] - 0s 2ms/step - loss: 499.8907\n",
            "Epoch 12/100\n",
            "13/13 [==============================] - 0s 2ms/step - loss: 499.2127\n",
            "Epoch 13/100\n",
            "13/13 [==============================] - 0s 2ms/step - loss: 498.4955\n",
            "Epoch 14/100\n",
            "13/13 [==============================] - 0s 2ms/step - loss: 497.8089\n",
            "Epoch 15/100\n",
            "13/13 [==============================] - 0s 2ms/step - loss: 497.1279\n",
            "Epoch 16/100\n",
            "13/13 [==============================] - 0s 2ms/step - loss: 496.4523\n",
            "Epoch 17/100\n",
            "13/13 [==============================] - 0s 2ms/step - loss: 495.7496\n",
            "Epoch 18/100\n",
            "13/13 [==============================] - 0s 2ms/step - loss: 495.0832\n",
            "Epoch 19/100\n",
            "13/13 [==============================] - 0s 2ms/step - loss: 494.3828\n",
            "Epoch 20/100\n",
            "13/13 [==============================] - 0s 2ms/step - loss: 493.7307\n",
            "Epoch 21/100\n",
            "13/13 [==============================] - 0s 2ms/step - loss: 493.0544\n",
            "Epoch 22/100\n",
            "13/13 [==============================] - 0s 2ms/step - loss: 492.3658\n",
            "Epoch 23/100\n",
            "13/13 [==============================] - 0s 2ms/step - loss: 491.7169\n",
            "Epoch 24/100\n",
            "13/13 [==============================] - 0s 2ms/step - loss: 491.0189\n",
            "Epoch 25/100\n",
            "13/13 [==============================] - 0s 2ms/step - loss: 490.3651\n",
            "Epoch 26/100\n",
            "13/13 [==============================] - 0s 2ms/step - loss: 489.6865\n",
            "Epoch 27/100\n",
            "13/13 [==============================] - 0s 2ms/step - loss: 489.0210\n",
            "Epoch 28/100\n",
            "13/13 [==============================] - 0s 2ms/step - loss: 488.3498\n",
            "Epoch 29/100\n",
            "13/13 [==============================] - 0s 2ms/step - loss: 487.6820\n",
            "Epoch 30/100\n",
            "13/13 [==============================] - 0s 2ms/step - loss: 487.0121\n",
            "Epoch 31/100\n",
            "13/13 [==============================] - 0s 2ms/step - loss: 486.3739\n",
            "Epoch 32/100\n",
            "13/13 [==============================] - 0s 2ms/step - loss: 485.7115\n",
            "Epoch 33/100\n",
            "13/13 [==============================] - 0s 2ms/step - loss: 485.0587\n",
            "Epoch 34/100\n",
            "13/13 [==============================] - 0s 2ms/step - loss: 484.4020\n",
            "Epoch 35/100\n",
            "13/13 [==============================] - 0s 2ms/step - loss: 483.7138\n",
            "Epoch 36/100\n",
            "13/13 [==============================] - 0s 2ms/step - loss: 483.0959\n",
            "Epoch 37/100\n",
            "13/13 [==============================] - 0s 2ms/step - loss: 482.4394\n",
            "Epoch 38/100\n",
            "13/13 [==============================] - 0s 2ms/step - loss: 481.7655\n",
            "Epoch 39/100\n",
            "13/13 [==============================] - 0s 2ms/step - loss: 481.1440\n",
            "Epoch 40/100\n",
            "13/13 [==============================] - 0s 2ms/step - loss: 480.5145\n",
            "Epoch 41/100\n",
            "13/13 [==============================] - 0s 2ms/step - loss: 479.8347\n",
            "Epoch 42/100\n",
            "13/13 [==============================] - 0s 2ms/step - loss: 479.1885\n",
            "Epoch 43/100\n",
            "13/13 [==============================] - 0s 2ms/step - loss: 478.5427\n",
            "Epoch 44/100\n",
            "13/13 [==============================] - 0s 2ms/step - loss: 477.9095\n",
            "Epoch 45/100\n",
            "13/13 [==============================] - 0s 2ms/step - loss: 477.2952\n",
            "Epoch 46/100\n",
            "13/13 [==============================] - 0s 2ms/step - loss: 476.6197\n",
            "Epoch 47/100\n",
            "13/13 [==============================] - 0s 2ms/step - loss: 476.0000\n",
            "Epoch 48/100\n",
            "13/13 [==============================] - 0s 2ms/step - loss: 475.3596\n",
            "Epoch 49/100\n",
            "13/13 [==============================] - 0s 2ms/step - loss: 474.7326\n",
            "Epoch 50/100\n",
            "13/13 [==============================] - 0s 2ms/step - loss: 474.0977\n",
            "Epoch 51/100\n",
            "13/13 [==============================] - 0s 2ms/step - loss: 473.4615\n",
            "Epoch 52/100\n",
            "13/13 [==============================] - 0s 2ms/step - loss: 472.8315\n",
            "Epoch 53/100\n",
            "13/13 [==============================] - 0s 2ms/step - loss: 472.2135\n",
            "Epoch 54/100\n",
            "13/13 [==============================] - 0s 2ms/step - loss: 471.5790\n",
            "Epoch 55/100\n",
            "13/13 [==============================] - 0s 3ms/step - loss: 470.9482\n",
            "Epoch 56/100\n",
            "13/13 [==============================] - 0s 3ms/step - loss: 470.3240\n",
            "Epoch 57/100\n",
            "13/13 [==============================] - 0s 3ms/step - loss: 469.6827\n",
            "Epoch 58/100\n",
            "13/13 [==============================] - 0s 3ms/step - loss: 469.0620\n",
            "Epoch 59/100\n",
            "13/13 [==============================] - 0s 3ms/step - loss: 468.4313\n",
            "Epoch 60/100\n",
            "13/13 [==============================] - 0s 3ms/step - loss: 467.8123\n",
            "Epoch 61/100\n",
            "13/13 [==============================] - 0s 3ms/step - loss: 467.1881\n",
            "Epoch 62/100\n",
            "13/13 [==============================] - 0s 3ms/step - loss: 466.5646\n",
            "Epoch 63/100\n",
            "13/13 [==============================] - 0s 3ms/step - loss: 465.9518\n",
            "Epoch 64/100\n",
            "13/13 [==============================] - 0s 2ms/step - loss: 465.3576\n",
            "Epoch 65/100\n",
            "13/13 [==============================] - 0s 2ms/step - loss: 464.7298\n",
            "Epoch 66/100\n",
            "13/13 [==============================] - 0s 2ms/step - loss: 464.0911\n",
            "Epoch 67/100\n",
            "13/13 [==============================] - 0s 3ms/step - loss: 463.4797\n",
            "Epoch 68/100\n",
            "13/13 [==============================] - 0s 2ms/step - loss: 462.8624\n",
            "Epoch 69/100\n",
            "13/13 [==============================] - 0s 3ms/step - loss: 462.3064\n",
            "Epoch 70/100\n",
            "13/13 [==============================] - 0s 3ms/step - loss: 461.6287\n",
            "Epoch 71/100\n",
            "13/13 [==============================] - 0s 2ms/step - loss: 461.0109\n",
            "Epoch 72/100\n",
            "13/13 [==============================] - 0s 3ms/step - loss: 460.4167\n",
            "Epoch 73/100\n",
            "13/13 [==============================] - 0s 3ms/step - loss: 459.8040\n",
            "Epoch 74/100\n",
            "13/13 [==============================] - 0s 3ms/step - loss: 459.2095\n",
            "Epoch 75/100\n",
            "13/13 [==============================] - 0s 3ms/step - loss: 458.5845\n",
            "Epoch 76/100\n",
            "13/13 [==============================] - 0s 3ms/step - loss: 457.9664\n",
            "Epoch 77/100\n",
            "13/13 [==============================] - 0s 2ms/step - loss: 457.3621\n",
            "Epoch 78/100\n",
            "13/13 [==============================] - 0s 2ms/step - loss: 456.7726\n",
            "Epoch 79/100\n",
            "13/13 [==============================] - 0s 2ms/step - loss: 456.1599\n",
            "Epoch 80/100\n",
            "13/13 [==============================] - 0s 3ms/step - loss: 455.5545\n",
            "Epoch 81/100\n",
            "13/13 [==============================] - 0s 3ms/step - loss: 454.9553\n",
            "Epoch 82/100\n",
            "13/13 [==============================] - 0s 2ms/step - loss: 454.3505\n",
            "Epoch 83/100\n",
            "13/13 [==============================] - 0s 2ms/step - loss: 453.7520\n",
            "Epoch 84/100\n",
            "13/13 [==============================] - 0s 2ms/step - loss: 453.1781\n",
            "Epoch 85/100\n",
            "13/13 [==============================] - 0s 2ms/step - loss: 452.5536\n",
            "Epoch 86/100\n",
            "13/13 [==============================] - 0s 3ms/step - loss: 451.9606\n",
            "Epoch 87/100\n",
            "13/13 [==============================] - 0s 3ms/step - loss: 451.3777\n",
            "Epoch 88/100\n",
            "13/13 [==============================] - 0s 2ms/step - loss: 450.7785\n",
            "Epoch 89/100\n",
            "13/13 [==============================] - 0s 3ms/step - loss: 450.2144\n",
            "Epoch 90/100\n",
            "13/13 [==============================] - 0s 3ms/step - loss: 449.5824\n",
            "Epoch 91/100\n",
            "13/13 [==============================] - 0s 3ms/step - loss: 448.9928\n",
            "Epoch 92/100\n",
            "13/13 [==============================] - 0s 2ms/step - loss: 448.4223\n",
            "Epoch 93/100\n",
            "13/13 [==============================] - 0s 2ms/step - loss: 447.8117\n",
            "Epoch 94/100\n",
            "13/13 [==============================] - 0s 2ms/step - loss: 447.2351\n",
            "Epoch 95/100\n",
            "13/13 [==============================] - 0s 2ms/step - loss: 446.6443\n",
            "Epoch 96/100\n",
            "13/13 [==============================] - 0s 3ms/step - loss: 446.0507\n",
            "Epoch 97/100\n",
            "13/13 [==============================] - 0s 3ms/step - loss: 445.4882\n",
            "Epoch 98/100\n",
            "13/13 [==============================] - 0s 2ms/step - loss: 444.8919\n",
            "Epoch 99/100\n",
            "13/13 [==============================] - 0s 2ms/step - loss: 444.3153\n",
            "Epoch 100/100\n",
            "13/13 [==============================] - 0s 2ms/step - loss: 443.7461\n"
          ]
        },
        {
          "output_type": "execute_result",
          "data": {
            "text/plain": [
              "<keras.callbacks.History at 0x7f9efa38d8d0>"
            ]
          },
          "metadata": {},
          "execution_count": 37
        }
      ]
    },
    {
      "cell_type": "code",
      "source": [
        "# Evaluate the model\n",
        "loss = model.evaluate(X_test, y_test, verbose=0)\n",
        "print('Test Loss:', loss)"
      ],
      "metadata": {
        "colab": {
          "base_uri": "https://localhost:8080/"
        },
        "id": "TsvJOJca5XfB",
        "outputId": "4e4cdd9b-f3ca-4e6d-d6e2-61153611a773"
      },
      "execution_count": 33,
      "outputs": [
        {
          "output_type": "stream",
          "name": "stdout",
          "text": [
            "Test Loss: 473.27679443359375\n"
          ]
        }
      ]
    },
    {
      "cell_type": "code",
      "source": [
        "# Make predictions\n",
        "predictions = model.predict(X_test)"
      ],
      "metadata": {
        "colab": {
          "base_uri": "https://localhost:8080/"
        },
        "id": "F1pW49xC5bMw",
        "outputId": "0caab85f-dd45-43c3-d9de-37da51d14e98"
      },
      "execution_count": 34,
      "outputs": [
        {
          "output_type": "stream",
          "name": "stdout",
          "text": [
            "4/4 [==============================] - 0s 3ms/step\n"
          ]
        }
      ]
    },
    {
      "cell_type": "code",
      "source": [
        "# Print some predictions and actual values\n",
        "for i in range(10):\n",
        "    print('Predicted:', predictions[i][0], 'Actual:', y_test.iloc[i])"
      ],
      "metadata": {
        "colab": {
          "base_uri": "https://localhost:8080/"
        },
        "id": "hVDMZHgn5dTN",
        "outputId": "20f30ba5-e98a-40df-8f2c-01e9b1acfd50"
      },
      "execution_count": 35,
      "outputs": [
        {
          "output_type": "stream",
          "name": "stdout",
          "text": [
            "Predicted: 3.9588928 Actual: 23.6\n",
            "Predicted: 7.6712284 Actual: 32.4\n",
            "Predicted: -1.0762855 Actual: 13.6\n",
            "Predicted: 4.8885155 Actual: 22.8\n",
            "Predicted: -3.5233006 Actual: 16.1\n",
            "Predicted: 2.89151 Actual: 20.0\n",
            "Predicted: 1.0319803 Actual: 17.8\n",
            "Predicted: -0.7400409 Actual: 14.0\n",
            "Predicted: -1.5998374 Actual: 19.6\n",
            "Predicted: 1.1922919 Actual: 16.8\n"
          ]
        }
      ]
    },
    {
      "cell_type": "markdown",
      "source": [
        "**Classification using Deep neural network: Multiclass classification using Deep Neural Networks: Example: Use the OCR letter recognition dataset.**"
      ],
      "metadata": {
        "id": "02KPFHrh5wea"
      }
    },
    {
      "cell_type": "code",
      "source": [
        "import numpy as np\n",
        "from sklearn.datasets import fetch_openml\n",
        "from sklearn.model_selection import train_test_split\n",
        "from sklearn.preprocessing import LabelEncoder, StandardScaler\n",
        "from tensorflow.keras.models import Sequential\n",
        "from tensorflow.keras.layers import Dense\n",
        "from tensorflow.keras.optimizers import Adam\n",
        "from tensorflow.keras.utils import to_categorical"
      ],
      "metadata": {
        "id": "3kI2taQP5frX"
      },
      "execution_count": 59,
      "outputs": []
    },
    {
      "cell_type": "code",
      "source": [
        "# Load the OCR Letter Recognition dataset\n",
        "data = fetch_openml(name='letter', version=1, as_frame=True)"
      ],
      "metadata": {
        "colab": {
          "base_uri": "https://localhost:8080/"
        },
        "id": "gEq5pk_s70AN",
        "outputId": "04554feb-f7b5-4974-e668-a0cb7574e23d"
      },
      "execution_count": 60,
      "outputs": [
        {
          "output_type": "stream",
          "name": "stderr",
          "text": [
            "/usr/local/lib/python3.10/dist-packages/sklearn/datasets/_openml.py:968: FutureWarning: The default value of `parser` will change from `'liac-arff'` to `'auto'` in 1.4. You can set `parser='auto'` to silence this warning. Therefore, an `ImportError` will be raised from 1.4 if the dataset is dense and pandas is not installed. Note that the pandas parser may return different data types. See the Notes Section in fetch_openml's API doc for details.\n",
            "  warn(\n"
          ]
        }
      ]
    },
    {
      "cell_type": "code",
      "source": [
        "# Split the dataset into features and target\n",
        "X = data.data\n",
        "y = data.target"
      ],
      "metadata": {
        "id": "y7p6tsD672YS"
      },
      "execution_count": 61,
      "outputs": []
    },
    {
      "cell_type": "code",
      "source": [
        "# Preprocess the data\n",
        "label_encoder = LabelEncoder()\n",
        "y = label_encoder.fit_transform(y)\n",
        "y = to_categorical(y)"
      ],
      "metadata": {
        "id": "CzEL4qrl74cZ"
      },
      "execution_count": 62,
      "outputs": []
    },
    {
      "cell_type": "code",
      "source": [
        "# Split the data into training and testing sets\n",
        "X_train, X_test, y_train, y_test = train_test_split(X, y, test_size=0.2, random_state=42)"
      ],
      "metadata": {
        "id": "92NZj3Jx76Sj"
      },
      "execution_count": 63,
      "outputs": []
    },
    {
      "cell_type": "code",
      "source": [
        "# Scale the data for better convergence\n",
        "scaler = StandardScaler()\n",
        "X_train = scaler.fit_transform(X_train)\n",
        "X_test = scaler.transform(X_test)"
      ],
      "metadata": {
        "id": "iFX33Gms79ab"
      },
      "execution_count": 64,
      "outputs": []
    },
    {
      "cell_type": "code",
      "source": [
        "# Define the model\n",
        "model = Sequential()\n",
        "model.add(Dense(128, activation='relu', input_shape=(X_train.shape[1],)))\n",
        "model.add(Dense(64, activation='relu'))\n",
        "model.add(Dense(len(label_encoder.classes_), activation='softmax'))"
      ],
      "metadata": {
        "id": "3_xU_gyV7_0f"
      },
      "execution_count": 65,
      "outputs": []
    },
    {
      "cell_type": "code",
      "source": [
        "# Compile the model\n",
        "model.compile(optimizer=Adam(learning_rate=0.001), loss='categorical_crossentropy', metrics=['accuracy'])"
      ],
      "metadata": {
        "id": "BspYyMog8B1h"
      },
      "execution_count": 66,
      "outputs": []
    },
    {
      "cell_type": "code",
      "source": [
        "# Train the model\n",
        "model.fit(X_train, y_train, batch_size=32, epochs=10, verbose=1)"
      ],
      "metadata": {
        "colab": {
          "base_uri": "https://localhost:8080/"
        },
        "id": "dcllOT1u8IlO",
        "outputId": "a436b05b-c255-496e-ab47-29687a072e60"
      },
      "execution_count": 67,
      "outputs": [
        {
          "output_type": "stream",
          "name": "stdout",
          "text": [
            "Epoch 1/10\n",
            "500/500 [==============================] - 2s 2ms/step - loss: 1.4043 - accuracy: 0.6148\n",
            "Epoch 2/10\n",
            "500/500 [==============================] - 1s 2ms/step - loss: 0.6509 - accuracy: 0.8104\n",
            "Epoch 3/10\n",
            "500/500 [==============================] - 1s 2ms/step - loss: 0.4788 - accuracy: 0.8574\n",
            "Epoch 4/10\n",
            "500/500 [==============================] - 1s 2ms/step - loss: 0.3818 - accuracy: 0.8855\n",
            "Epoch 5/10\n",
            "500/500 [==============================] - 1s 3ms/step - loss: 0.3180 - accuracy: 0.9061\n",
            "Epoch 6/10\n",
            "500/500 [==============================] - 1s 3ms/step - loss: 0.2759 - accuracy: 0.9170\n",
            "Epoch 7/10\n",
            "500/500 [==============================] - 1s 2ms/step - loss: 0.2401 - accuracy: 0.9284\n",
            "Epoch 8/10\n",
            "500/500 [==============================] - 1s 2ms/step - loss: 0.2114 - accuracy: 0.9366\n",
            "Epoch 9/10\n",
            "500/500 [==============================] - 1s 2ms/step - loss: 0.1889 - accuracy: 0.9420\n",
            "Epoch 10/10\n",
            "500/500 [==============================] - 1s 2ms/step - loss: 0.1706 - accuracy: 0.9501\n"
          ]
        },
        {
          "output_type": "execute_result",
          "data": {
            "text/plain": [
              "<keras.callbacks.History at 0x7f9f15d10160>"
            ]
          },
          "metadata": {},
          "execution_count": 67
        }
      ]
    },
    {
      "cell_type": "code",
      "source": [
        "# Evaluate the model\n",
        "loss, accuracy = model.evaluate(X_test, y_test, verbose=0)\n",
        "print('Test Loss:', loss)\n",
        "print('Test Accuracy:', accuracy)"
      ],
      "metadata": {
        "colab": {
          "base_uri": "https://localhost:8080/"
        },
        "id": "fbQ0pQPT8LHp",
        "outputId": "ca0a0948-4a03-4bde-cb56-5b02a34e1120"
      },
      "execution_count": 68,
      "outputs": [
        {
          "output_type": "stream",
          "name": "stdout",
          "text": [
            "Test Loss: 0.19942636787891388\n",
            "Test Accuracy: 0.9350000023841858\n"
          ]
        }
      ]
    },
    {
      "cell_type": "code",
      "source": [
        "# Make predictions\n",
        "predictions = model.predict(X_test)\n",
        "predicted_labels = np.argmax(predictions, axis=1)\n",
        "predicted_letters = label_encoder.inverse_transform(predicted_labels)"
      ],
      "metadata": {
        "colab": {
          "base_uri": "https://localhost:8080/"
        },
        "id": "3hGqi5t-8RLm",
        "outputId": "2906ac23-96bd-435c-adf8-b0e24d123df7"
      },
      "execution_count": 69,
      "outputs": [
        {
          "output_type": "stream",
          "name": "stdout",
          "text": [
            "125/125 [==============================] - 0s 1ms/step\n"
          ]
        }
      ]
    },
    {
      "cell_type": "code",
      "source": [
        "# Print some predicted and actual letters\n",
        "for i in range(10):\n",
        "    predicted_label = predicted_letters[i]\n",
        "    actual_label = label_encoder.inverse_transform([np.argmax(y_test[i])])\n",
        "    print('Predicted:', predicted_label, 'Actual:', actual_label)"
      ],
      "metadata": {
        "colab": {
          "base_uri": "https://localhost:8080/"
        },
        "id": "2Trvy9zh8UvE",
        "outputId": "9bfd66f7-9e32-4a96-89d6-ea516e9e9818"
      },
      "execution_count": 71,
      "outputs": [
        {
          "output_type": "stream",
          "name": "stdout",
          "text": [
            "Predicted: K Actual: ['K']\n",
            "Predicted: I Actual: ['I']\n",
            "Predicted: I Actual: ['I']\n",
            "Predicted: U Actual: ['O']\n",
            "Predicted: T Actual: ['T']\n",
            "Predicted: D Actual: ['D']\n",
            "Predicted: Y Actual: ['Y']\n",
            "Predicted: N Actual: ['N']\n",
            "Predicted: X Actual: ['X']\n",
            "Predicted: E Actual: ['E']\n"
          ]
        }
      ]
    },
    {
      "cell_type": "markdown",
      "source": [
        "**Classification using Deep neural network: Binary classification using Deep Neural Networks Example: Classify movie reviews into positive\" reviews and \"negative\" reviews, just based on the text content of the reviews. Use IMDB dataset.**"
      ],
      "metadata": {
        "id": "Z50MfwLX_am5"
      }
    },
    {
      "cell_type": "code",
      "source": [
        "import numpy as np\n",
        "from tensorflow.keras.datasets import imdb\n",
        "from tensorflow.keras.models import Sequential\n",
        "from tensorflow.keras.layers import Dense, Embedding, Flatten\n",
        "from tensorflow.keras.preprocessing.sequence import pad_sequences"
      ],
      "metadata": {
        "id": "jvKdFhgH8Ztq"
      },
      "execution_count": 72,
      "outputs": []
    },
    {
      "cell_type": "code",
      "source": [
        "# Load the IMDB dataset\n",
        "max_features = 10000  # Number of words to consider as features\n",
        "max_len = 500  # Maximum sequence length\n",
        "(X_train, y_train), (X_test, y_test) = imdb.load_data(num_words=max_features)"
      ],
      "metadata": {
        "colab": {
          "base_uri": "https://localhost:8080/"
        },
        "id": "exu9FyqM_oHJ",
        "outputId": "a5d30d1b-8347-4c23-ff7e-4e1a98d7719b"
      },
      "execution_count": 73,
      "outputs": [
        {
          "output_type": "stream",
          "name": "stdout",
          "text": [
            "Downloading data from https://storage.googleapis.com/tensorflow/tf-keras-datasets/imdb.npz\n",
            "17464789/17464789 [==============================] - 0s 0us/step\n"
          ]
        }
      ]
    },
    {
      "cell_type": "code",
      "source": [
        "# Pad sequences to a fixed length\n",
        "X_train = pad_sequences(X_train, maxlen=max_len)\n",
        "X_test = pad_sequences(X_test, maxlen=max_len)"
      ],
      "metadata": {
        "id": "G9P2ky-U_qBo"
      },
      "execution_count": 74,
      "outputs": []
    },
    {
      "cell_type": "code",
      "source": [
        "# Define the model\n",
        "model = Sequential()\n",
        "model.add(Embedding(max_features, 32, input_length=max_len))\n",
        "model.add(Flatten())\n",
        "model.add(Dense(1, activation='sigmoid'))"
      ],
      "metadata": {
        "id": "6mlO5RDr_sIB"
      },
      "execution_count": 75,
      "outputs": []
    },
    {
      "cell_type": "code",
      "source": [
        "# Compile the model\n",
        "model.compile(optimizer='adam', loss='binary_crossentropy', metrics=['accuracy'])"
      ],
      "metadata": {
        "id": "4gr8eItt_vHF"
      },
      "execution_count": 76,
      "outputs": []
    },
    {
      "cell_type": "code",
      "source": [
        "# Train the model\n",
        "model.fit(X_train, y_train, batch_size=32, epochs=10, validation_data=(X_test, y_test))"
      ],
      "metadata": {
        "colab": {
          "base_uri": "https://localhost:8080/"
        },
        "id": "aKIUDxF1_xUJ",
        "outputId": "f921ee14-14f4-4faf-80fb-f5da2eee9e03"
      },
      "execution_count": 77,
      "outputs": [
        {
          "output_type": "stream",
          "name": "stdout",
          "text": [
            "Epoch 1/10\n",
            "782/782 [==============================] - 10s 12ms/step - loss: 0.4237 - accuracy: 0.7944 - val_loss: 0.2771 - val_accuracy: 0.8853\n",
            "Epoch 2/10\n",
            "782/782 [==============================] - 9s 11ms/step - loss: 0.1921 - accuracy: 0.9286 - val_loss: 0.2774 - val_accuracy: 0.8830\n",
            "Epoch 3/10\n",
            "782/782 [==============================] - 10s 13ms/step - loss: 0.1054 - accuracy: 0.9698 - val_loss: 0.2978 - val_accuracy: 0.8796\n",
            "Epoch 4/10\n",
            "782/782 [==============================] - 10s 13ms/step - loss: 0.0492 - accuracy: 0.9913 - val_loss: 0.3295 - val_accuracy: 0.8750\n",
            "Epoch 5/10\n",
            "782/782 [==============================] - 9s 11ms/step - loss: 0.0222 - accuracy: 0.9978 - val_loss: 0.3516 - val_accuracy: 0.8768\n",
            "Epoch 6/10\n",
            "782/782 [==============================] - 8s 10ms/step - loss: 0.0101 - accuracy: 0.9997 - val_loss: 0.3799 - val_accuracy: 0.8748\n",
            "Epoch 7/10\n",
            "782/782 [==============================] - 9s 11ms/step - loss: 0.0053 - accuracy: 0.9999 - val_loss: 0.4062 - val_accuracy: 0.8744\n",
            "Epoch 8/10\n",
            "782/782 [==============================] - 9s 11ms/step - loss: 0.0029 - accuracy: 1.0000 - val_loss: 0.4331 - val_accuracy: 0.8744\n",
            "Epoch 9/10\n",
            "782/782 [==============================] - 9s 12ms/step - loss: 0.0017 - accuracy: 1.0000 - val_loss: 0.4574 - val_accuracy: 0.8744\n",
            "Epoch 10/10\n",
            "782/782 [==============================] - 10s 13ms/step - loss: 9.7918e-04 - accuracy: 1.0000 - val_loss: 0.4829 - val_accuracy: 0.8746\n"
          ]
        },
        {
          "output_type": "execute_result",
          "data": {
            "text/plain": [
              "<keras.callbacks.History at 0x7f9ef92b73d0>"
            ]
          },
          "metadata": {},
          "execution_count": 77
        }
      ]
    },
    {
      "cell_type": "code",
      "source": [
        "# Evaluate the model\n",
        "loss, accuracy = model.evaluate(X_test, y_test, verbose=0)\n",
        "print('Test Loss:', loss)\n",
        "print('Test Accuracy:', accuracy)"
      ],
      "metadata": {
        "colab": {
          "base_uri": "https://localhost:8080/"
        },
        "id": "51PBjwc7_0CT",
        "outputId": "ff0f8393-942b-4a80-e596-5a5d277e1363"
      },
      "execution_count": 78,
      "outputs": [
        {
          "output_type": "stream",
          "name": "stdout",
          "text": [
            "Test Loss: 0.48287850618362427\n",
            "Test Accuracy: 0.8745599985122681\n"
          ]
        }
      ]
    },
    {
      "cell_type": "markdown",
      "source": [
        "**Convolutional neural network (CNN): Use MNIST Fashion Dataset and create a classifier to classify fashion clothing into categories.**"
      ],
      "metadata": {
        "id": "tXnEHIQyAye8"
      }
    },
    {
      "cell_type": "code",
      "source": [
        "import tensorflow as tf\n",
        "from tensorflow.keras.datasets import fashion_mnist\n",
        "from tensorflow.keras.models import Sequential\n",
        "from tensorflow.keras.layers import Conv2D, MaxPooling2D, Flatten, Dense"
      ],
      "metadata": {
        "id": "V6i_FIjyDG4A"
      },
      "execution_count": 85,
      "outputs": []
    },
    {
      "cell_type": "code",
      "source": [
        "# Load the MNIST Fashion Dataset\n",
        "(X_train, y_train), (X_test, y_test) = fashion_mnist.load_data()"
      ],
      "metadata": {
        "colab": {
          "base_uri": "https://localhost:8080/"
        },
        "id": "iZWd3XIiDVek",
        "outputId": "0de39fc9-33d1-42e8-d5a9-89c25d554656"
      },
      "execution_count": 86,
      "outputs": [
        {
          "output_type": "stream",
          "name": "stdout",
          "text": [
            "Downloading data from https://storage.googleapis.com/tensorflow/tf-keras-datasets/train-labels-idx1-ubyte.gz\n",
            "29515/29515 [==============================] - 0s 0us/step\n",
            "Downloading data from https://storage.googleapis.com/tensorflow/tf-keras-datasets/train-images-idx3-ubyte.gz\n",
            "26421880/26421880 [==============================] - 0s 0us/step\n",
            "Downloading data from https://storage.googleapis.com/tensorflow/tf-keras-datasets/t10k-labels-idx1-ubyte.gz\n",
            "5148/5148 [==============================] - 0s 0us/step\n",
            "Downloading data from https://storage.googleapis.com/tensorflow/tf-keras-datasets/t10k-images-idx3-ubyte.gz\n",
            "4422102/4422102 [==============================] - 0s 0us/step\n"
          ]
        }
      ]
    },
    {
      "cell_type": "code",
      "source": [
        "# Normalize the pixel values\n",
        "X_train = X_train.astype('float32') / 255.0\n",
        "X_test = X_test.astype('float32') / 255.0"
      ],
      "metadata": {
        "id": "LwfZoD-gDYCy"
      },
      "execution_count": 87,
      "outputs": []
    },
    {
      "cell_type": "code",
      "source": [
        "# Reshape the input data to add channel dimension\n",
        "X_train = X_train.reshape(-1, 28, 28, 1)\n",
        "X_test = X_test.reshape(-1, 28, 28, 1)"
      ],
      "metadata": {
        "id": "_B5ERbCsDay5"
      },
      "execution_count": 88,
      "outputs": []
    },
    {
      "cell_type": "code",
      "source": [
        "# Define the number of classes\n",
        "num_classes = 10"
      ],
      "metadata": {
        "id": "KmEzyKkODco6"
      },
      "execution_count": 89,
      "outputs": []
    },
    {
      "cell_type": "code",
      "source": [
        "# Convert the labels to categorical format\n",
        "y_train = tf.keras.utils.to_categorical(y_train, num_classes)\n",
        "y_test = tf.keras.utils.to_categorical(y_test, num_classes)"
      ],
      "metadata": {
        "id": "OjRKWivbDfED"
      },
      "execution_count": 90,
      "outputs": []
    },
    {
      "cell_type": "code",
      "source": [
        "# Define the CNN model\n",
        "model = Sequential()\n",
        "model.add(Conv2D(32, (3, 3), activation='relu', input_shape=(28, 28, 1)))\n",
        "model.add(MaxPooling2D((2, 2)))\n",
        "model.add(Conv2D(64, (3, 3), activation='relu'))\n",
        "model.add(MaxPooling2D((2, 2)))\n",
        "model.add(Flatten())\n",
        "model.add(Dense(64, activation='relu'))\n",
        "model.add(Dense(num_classes, activation='softmax'))"
      ],
      "metadata": {
        "id": "kIhlUCvzDhLW"
      },
      "execution_count": 91,
      "outputs": []
    },
    {
      "cell_type": "code",
      "source": [
        "# Compile the model\n",
        "model.compile(optimizer='adam',\n",
        "              loss='categorical_crossentropy',\n",
        "              metrics=['accuracy'])"
      ],
      "metadata": {
        "id": "xYcZKyAiDjDT"
      },
      "execution_count": 92,
      "outputs": []
    },
    {
      "cell_type": "code",
      "source": [
        "# Train the model\n",
        "model.fit(X_train, y_train, epochs=10, batch_size=128, validation_data=(X_test, y_test))"
      ],
      "metadata": {
        "colab": {
          "base_uri": "https://localhost:8080/"
        },
        "id": "5f9YEN_rDlDx",
        "outputId": "88069e16-3baa-4777-affe-6bf6cd45bb15"
      },
      "execution_count": 93,
      "outputs": [
        {
          "output_type": "stream",
          "name": "stdout",
          "text": [
            "Epoch 1/10\n",
            "469/469 [==============================] - 59s 122ms/step - loss: 0.5641 - accuracy: 0.7965 - val_loss: 0.4192 - val_accuracy: 0.8520\n",
            "Epoch 2/10\n",
            "469/469 [==============================] - 56s 119ms/step - loss: 0.3571 - accuracy: 0.8709 - val_loss: 0.3630 - val_accuracy: 0.8711\n",
            "Epoch 3/10\n",
            "469/469 [==============================] - 56s 119ms/step - loss: 0.3143 - accuracy: 0.8863 - val_loss: 0.3272 - val_accuracy: 0.8818\n",
            "Epoch 4/10\n",
            "469/469 [==============================] - 58s 124ms/step - loss: 0.2837 - accuracy: 0.8972 - val_loss: 0.3012 - val_accuracy: 0.8912\n",
            "Epoch 5/10\n",
            "469/469 [==============================] - 54s 114ms/step - loss: 0.2619 - accuracy: 0.9049 - val_loss: 0.3166 - val_accuracy: 0.8806\n",
            "Epoch 6/10\n",
            "469/469 [==============================] - 54s 115ms/step - loss: 0.2448 - accuracy: 0.9106 - val_loss: 0.2854 - val_accuracy: 0.8986\n",
            "Epoch 7/10\n",
            "469/469 [==============================] - 55s 117ms/step - loss: 0.2274 - accuracy: 0.9165 - val_loss: 0.2818 - val_accuracy: 0.9011\n",
            "Epoch 8/10\n",
            "469/469 [==============================] - 55s 118ms/step - loss: 0.2144 - accuracy: 0.9217 - val_loss: 0.2714 - val_accuracy: 0.8995\n",
            "Epoch 9/10\n",
            "469/469 [==============================] - 57s 122ms/step - loss: 0.2007 - accuracy: 0.9270 - val_loss: 0.2635 - val_accuracy: 0.9068\n",
            "Epoch 10/10\n",
            "469/469 [==============================] - 56s 119ms/step - loss: 0.1906 - accuracy: 0.9308 - val_loss: 0.2507 - val_accuracy: 0.9092\n"
          ]
        },
        {
          "output_type": "execute_result",
          "data": {
            "text/plain": [
              "<keras.callbacks.History at 0x7f9f0f9be4a0>"
            ]
          },
          "metadata": {},
          "execution_count": 93
        }
      ]
    },
    {
      "cell_type": "code",
      "source": [
        "# Evaluate the model\n",
        "loss, accuracy = model.evaluate(X_test, y_test, verbose=0)\n",
        "print('Test Loss:', loss)\n",
        "print('Test Accuracy:', accuracy)"
      ],
      "metadata": {
        "colab": {
          "base_uri": "https://localhost:8080/"
        },
        "id": "NRn1AWhoDnCw",
        "outputId": "bb0b7d9a-c5fe-4627-fe50-8eee0b5358c1"
      },
      "execution_count": 94,
      "outputs": [
        {
          "output_type": "stream",
          "name": "stdout",
          "text": [
            "Test Loss: 0.2507229149341583\n",
            "Test Accuracy: 0.9092000126838684\n"
          ]
        }
      ]
    }
  ]
}