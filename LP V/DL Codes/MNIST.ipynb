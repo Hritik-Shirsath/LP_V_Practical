{
 "cells": [
  {
   "cell_type": "code",
   "execution_count": 33,
   "id": "c85ab809",
   "metadata": {},
   "outputs": [],
   "source": [
    "import tensorflow as tf\n",
    "from tensorflow.keras.datasets import fashion_mnist\n",
    "from tensorflow.keras.models import Sequential\n",
    "from tensorflow.keras.layers import Conv2D, MaxPooling2D, Flatten, Dense"
   ]
  },
  {
   "cell_type": "code",
   "execution_count": 34,
   "id": "9f2eb4d2",
   "metadata": {},
   "outputs": [],
   "source": [
    "# Load the MNIST Fashion Dataset\n",
    "(X_train, y_train), (X_test, y_test) = fashion_mnist.load_data()"
   ]
  },
  {
   "cell_type": "code",
   "execution_count": 35,
   "id": "ca0399be",
   "metadata": {},
   "outputs": [],
   "source": [
    "# Normalize the pixel values\n",
    "X_train = X_train.astype('float32') / 255.0\n",
    "X_test = X_test.astype('float32') / 255.0"
   ]
  },
  {
   "cell_type": "code",
   "execution_count": 36,
   "id": "5d0a4bdc",
   "metadata": {},
   "outputs": [],
   "source": [
    "# Reshape the input data to add channel dimension\n",
    "X_train = X_train.reshape(-1, 28, 28, 1)\n",
    "X_test = X_test.reshape(-1, 28, 28, 1)"
   ]
  },
  {
   "cell_type": "code",
   "execution_count": 37,
   "id": "9c446b20",
   "metadata": {},
   "outputs": [],
   "source": [
    "# Define the number of classes\n",
    "num_classes = 10"
   ]
  },
  {
   "cell_type": "code",
   "execution_count": 38,
   "id": "cfa47c40",
   "metadata": {},
   "outputs": [],
   "source": [
    "# Convert the labels to categorical format\n",
    "y_train = tf.keras.utils.to_categorical(y_train, num_classes)\n",
    "y_test = tf.keras.utils.to_categorical(y_test, num_classes)"
   ]
  },
  {
   "cell_type": "code",
   "execution_count": 39,
   "id": "30587219",
   "metadata": {},
   "outputs": [],
   "source": [
    "# Define the CNN model\n",
    "model = Sequential()\n",
    "model.add(Conv2D(32, (3, 3), activation='relu', input_shape=(28, 28, 1)))\n",
    "model.add(MaxPooling2D((2, 2)))\n",
    "model.add(Conv2D(64, (3, 3), activation='relu'))\n",
    "model.add(MaxPooling2D((2, 2)))\n",
    "model.add(Flatten())\n",
    "model.add(Dense(64, activation='relu'))\n",
    "model.add(Dense(num_classes, activation='softmax'))"
   ]
  },
  {
   "cell_type": "code",
   "execution_count": 40,
   "id": "1daa75a9",
   "metadata": {},
   "outputs": [],
   "source": [
    "# Compile the model\n",
    "model.compile(optimizer='adam',\n",
    "              loss='categorical_crossentropy',\n",
    "              metrics=['accuracy'])"
   ]
  },
  {
   "cell_type": "code",
   "execution_count": 41,
   "id": "0e7a4841",
   "metadata": {},
   "outputs": [
    {
     "name": "stdout",
     "output_type": "stream",
     "text": [
      "Epoch 1/10\n",
      "469/469 [==============================] - 28s 59ms/step - loss: 0.5754 - accuracy: 0.7944 - val_loss: 0.4309 - val_accuracy: 0.8431\n",
      "Epoch 2/10\n",
      "469/469 [==============================] - 29s 63ms/step - loss: 0.3694 - accuracy: 0.8669 - val_loss: 0.3652 - val_accuracy: 0.8714\n",
      "Epoch 3/10\n",
      "469/469 [==============================] - 29s 62ms/step - loss: 0.3212 - accuracy: 0.8836 - val_loss: 0.3533 - val_accuracy: 0.8750\n",
      "Epoch 4/10\n",
      "469/469 [==============================] - 29s 63ms/step - loss: 0.2885 - accuracy: 0.8954 - val_loss: 0.2987 - val_accuracy: 0.8954\n",
      "Epoch 5/10\n",
      "469/469 [==============================] - 30s 63ms/step - loss: 0.2655 - accuracy: 0.9038 - val_loss: 0.2914 - val_accuracy: 0.8946\n",
      "Epoch 6/10\n",
      "469/469 [==============================] - 30s 63ms/step - loss: 0.2455 - accuracy: 0.9104 - val_loss: 0.2793 - val_accuracy: 0.9000\n",
      "Epoch 7/10\n",
      "469/469 [==============================] - 30s 64ms/step - loss: 0.2293 - accuracy: 0.9166 - val_loss: 0.2726 - val_accuracy: 0.9012\n",
      "Epoch 8/10\n",
      "469/469 [==============================] - 30s 64ms/step - loss: 0.2159 - accuracy: 0.9207 - val_loss: 0.2615 - val_accuracy: 0.9056\n",
      "Epoch 9/10\n",
      "469/469 [==============================] - 30s 64ms/step - loss: 0.2003 - accuracy: 0.9265 - val_loss: 0.2664 - val_accuracy: 0.9065\n",
      "Epoch 10/10\n",
      "469/469 [==============================] - 33s 69ms/step - loss: 0.1884 - accuracy: 0.9317 - val_loss: 0.2480 - val_accuracy: 0.9122\n"
     ]
    },
    {
     "data": {
      "text/plain": [
       "<keras.callbacks.History at 0x1c96c33d710>"
      ]
     },
     "execution_count": 41,
     "metadata": {},
     "output_type": "execute_result"
    }
   ],
   "source": [
    "# Train the model\n",
    "model.fit(X_train, y_train, epochs=10, batch_size=128, validation_data=(X_test, y_test))"
   ]
  },
  {
   "cell_type": "code",
   "execution_count": 42,
   "id": "c78dd76d",
   "metadata": {},
   "outputs": [
    {
     "name": "stdout",
     "output_type": "stream",
     "text": [
      "Test Loss: 0.2480170875787735\n",
      "Test Accuracy: 0.9121999740600586\n"
     ]
    }
   ],
   "source": [
    "# Evaluate the model\n",
    "loss, accuracy = model.evaluate(X_test, y_test, verbose=0)\n",
    "print('Test Loss:', loss)\n",
    "print('Test Accuracy:', accuracy)"
   ]
  },
  {
   "cell_type": "code",
   "execution_count": null,
   "id": "a03eb521",
   "metadata": {},
   "outputs": [],
   "source": []
  }
 ],
 "metadata": {
  "kernelspec": {
   "display_name": "Python 3 (ipykernel)",
   "language": "python",
   "name": "python3"
  },
  "language_info": {
   "codemirror_mode": {
    "name": "ipython",
    "version": 3
   },
   "file_extension": ".py",
   "mimetype": "text/x-python",
   "name": "python",
   "nbconvert_exporter": "python",
   "pygments_lexer": "ipython3",
   "version": "3.11.0"
  }
 },
 "nbformat": 4,
 "nbformat_minor": 5
}
