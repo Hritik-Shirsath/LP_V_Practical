{
 "cells": [
  {
   "cell_type": "code",
   "execution_count": 13,
   "id": "3cffd9c0",
   "metadata": {},
   "outputs": [],
   "source": [
    "import numpy as np\n",
    "from sklearn.datasets import fetch_openml\n",
    "from sklearn.model_selection import train_test_split\n",
    "from sklearn.preprocessing import LabelEncoder, StandardScaler\n",
    "from tensorflow.keras.models import Sequential\n",
    "from tensorflow.keras.layers import Dense\n",
    "from tensorflow.keras.optimizers import Adam\n",
    "from tensorflow.keras.utils import to_categorical"
   ]
  },
  {
   "cell_type": "code",
   "execution_count": 15,
   "id": "efcffde3",
   "metadata": {},
   "outputs": [],
   "source": [
    "# Load the OCR Letter Recognition dataset\n",
    "data = fetch_openml(name='letter', version=1, as_frame=True, parser='auto')"
   ]
  },
  {
   "cell_type": "code",
   "execution_count": 16,
   "id": "3ff299e8",
   "metadata": {},
   "outputs": [],
   "source": [
    "# Split the dataset into features and target\n",
    "X = data.data\n",
    "y = data.target"
   ]
  },
  {
   "cell_type": "code",
   "execution_count": 17,
   "id": "e73f0688",
   "metadata": {},
   "outputs": [],
   "source": [
    "# Preprocess the data\n",
    "label_encoder = LabelEncoder()\n",
    "y = label_encoder.fit_transform(y)\n",
    "y = to_categorical(y)"
   ]
  },
  {
   "cell_type": "code",
   "execution_count": 18,
   "id": "93fa4692",
   "metadata": {},
   "outputs": [],
   "source": [
    "# Split the data into training and testing sets\n",
    "X_train, X_test, y_train, y_test = train_test_split(X, y, test_size=0.2, random_state=42)"
   ]
  },
  {
   "cell_type": "code",
   "execution_count": 19,
   "id": "3951836a",
   "metadata": {},
   "outputs": [],
   "source": [
    "# Scale the data for better convergence\n",
    "scaler = StandardScaler()\n",
    "X_train = scaler.fit_transform(X_train)\n",
    "X_test = scaler.transform(X_test)"
   ]
  },
  {
   "cell_type": "code",
   "execution_count": 20,
   "id": "7247786b",
   "metadata": {},
   "outputs": [],
   "source": [
    "# Define the model\n",
    "model = Sequential()\n",
    "model.add(Dense(128, activation='relu', input_shape=(X_train.shape[1],)))\n",
    "model.add(Dense(64, activation='relu'))\n",
    "model.add(Dense(len(label_encoder.classes_), activation='softmax'))"
   ]
  },
  {
   "cell_type": "code",
   "execution_count": 21,
   "id": "7d90a5b2",
   "metadata": {},
   "outputs": [],
   "source": [
    "# Compile the model\n",
    "model.compile(optimizer=Adam(learning_rate=0.001), loss='categorical_crossentropy', metrics=['accuracy'])"
   ]
  },
  {
   "cell_type": "code",
   "execution_count": 22,
   "id": "d0f53a7a",
   "metadata": {},
   "outputs": [
    {
     "name": "stdout",
     "output_type": "stream",
     "text": [
      "Epoch 1/10\n",
      "500/500 [==============================] - 1s 1ms/step - loss: 1.4181 - accuracy: 0.6166\n",
      "Epoch 2/10\n",
      "500/500 [==============================] - 1s 1ms/step - loss: 0.6627 - accuracy: 0.8065\n",
      "Epoch 3/10\n",
      "500/500 [==============================] - 1s 1ms/step - loss: 0.4856 - accuracy: 0.8588\n",
      "Epoch 4/10\n",
      "500/500 [==============================] - 1s 1ms/step - loss: 0.3887 - accuracy: 0.8874\n",
      "Epoch 5/10\n",
      "500/500 [==============================] - 1s 1ms/step - loss: 0.3250 - accuracy: 0.9035\n",
      "Epoch 6/10\n",
      "500/500 [==============================] - 1s 1ms/step - loss: 0.2786 - accuracy: 0.9162\n",
      "Epoch 7/10\n",
      "500/500 [==============================] - 1s 1ms/step - loss: 0.2431 - accuracy: 0.9258\n",
      "Epoch 8/10\n",
      "500/500 [==============================] - 1s 1ms/step - loss: 0.2155 - accuracy: 0.9354\n",
      "Epoch 9/10\n",
      "500/500 [==============================] - 1s 1ms/step - loss: 0.1948 - accuracy: 0.9400\n",
      "Epoch 10/10\n",
      "500/500 [==============================] - 1s 2ms/step - loss: 0.1733 - accuracy: 0.9469\n"
     ]
    },
    {
     "data": {
      "text/plain": [
       "<keras.callbacks.History at 0x1c95ed0d410>"
      ]
     },
     "execution_count": 22,
     "metadata": {},
     "output_type": "execute_result"
    }
   ],
   "source": [
    "# Train the model\n",
    "model.fit(X_train, y_train, batch_size=32, epochs=10, verbose=1)"
   ]
  },
  {
   "cell_type": "code",
   "execution_count": 23,
   "id": "4c350511",
   "metadata": {},
   "outputs": [
    {
     "name": "stdout",
     "output_type": "stream",
     "text": [
      "Test Loss: 0.1942858248949051\n",
      "Test Accuracy: 0.9397500157356262\n"
     ]
    }
   ],
   "source": [
    "# Evaluate the model\n",
    "loss, accuracy = model.evaluate(X_test, y_test, verbose=0)\n",
    "print('Test Loss:', loss)\n",
    "print('Test Accuracy:', accuracy)"
   ]
  },
  {
   "cell_type": "code",
   "execution_count": 24,
   "id": "e6550b80",
   "metadata": {},
   "outputs": [
    {
     "name": "stdout",
     "output_type": "stream",
     "text": [
      "125/125 [==============================] - 0s 978us/step\n"
     ]
    }
   ],
   "source": [
    "# Make predictions\n",
    "predictions = model.predict(X_test)\n",
    "predicted_labels = np.argmax(predictions, axis=1)\n",
    "predicted_letters = label_encoder.inverse_transform(predicted_labels)"
   ]
  },
  {
   "cell_type": "code",
   "execution_count": 25,
   "id": "0dc91148",
   "metadata": {},
   "outputs": [
    {
     "name": "stdout",
     "output_type": "stream",
     "text": [
      "Predicted: K Actual: ['K']\n",
      "Predicted: I Actual: ['I']\n",
      "Predicted: I Actual: ['I']\n",
      "Predicted: C Actual: ['O']\n",
      "Predicted: T Actual: ['T']\n",
      "Predicted: D Actual: ['D']\n",
      "Predicted: Y Actual: ['Y']\n",
      "Predicted: N Actual: ['N']\n",
      "Predicted: X Actual: ['X']\n",
      "Predicted: E Actual: ['E']\n"
     ]
    }
   ],
   "source": [
    "# Print some predicted and actual letters\n",
    "for i in range(10):\n",
    "    predicted_label = predicted_letters[i]\n",
    "    actual_label = label_encoder.inverse_transform([np.argmax(y_test[i])])\n",
    "    print('Predicted:', predicted_label, 'Actual:', actual_label)"
   ]
  },
  {
   "cell_type": "code",
   "execution_count": null,
   "id": "d429804d",
   "metadata": {},
   "outputs": [],
   "source": []
  }
 ],
 "metadata": {
  "kernelspec": {
   "display_name": "Python 3 (ipykernel)",
   "language": "python",
   "name": "python3"
  },
  "language_info": {
   "codemirror_mode": {
    "name": "ipython",
    "version": 3
   },
   "file_extension": ".py",
   "mimetype": "text/x-python",
   "name": "python",
   "nbconvert_exporter": "python",
   "pygments_lexer": "ipython3",
   "version": "3.11.0"
  }
 },
 "nbformat": 4,
 "nbformat_minor": 5
}
