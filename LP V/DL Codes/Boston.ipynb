{
 "cells": [
  {
   "cell_type": "code",
   "execution_count": 1,
   "id": "a1b8e3f4",
   "metadata": {},
   "outputs": [],
   "source": [
    "import numpy as np\n",
    "from sklearn.datasets import fetch_openml\n",
    "from sklearn.model_selection import train_test_split\n",
    "from sklearn.preprocessing import StandardScaler\n",
    "from tensorflow.keras.models import Sequential\n",
    "from tensorflow.keras.layers import Dense\n",
    "from tensorflow.keras.optimizers import Adam"
   ]
  },
  {
   "cell_type": "code",
   "execution_count": 3,
   "id": "9d7df99c",
   "metadata": {},
   "outputs": [],
   "source": [
    "# Load the Boston Housing dataset\n",
    "boston = fetch_openml(name='boston', version=1, as_frame=True, parser='auto')"
   ]
  },
  {
   "cell_type": "code",
   "execution_count": 4,
   "id": "e746123e",
   "metadata": {},
   "outputs": [],
   "source": [
    "# Split the dataset into features and target\n",
    "X = boston.data\n",
    "y = boston.target"
   ]
  },
  {
   "cell_type": "code",
   "execution_count": 5,
   "id": "f56ce26f",
   "metadata": {},
   "outputs": [],
   "source": [
    "# Split the data into training and testing sets\n",
    "X_train, X_test, y_train, y_test = train_test_split(X, y, test_size=0.2, random_state=42)"
   ]
  },
  {
   "cell_type": "code",
   "execution_count": 6,
   "id": "78b4e22f",
   "metadata": {},
   "outputs": [],
   "source": [
    "# Scale the data for better convergence\n",
    "scaler = StandardScaler()\n",
    "X_train = scaler.fit_transform(X_train)\n",
    "X_test = scaler.transform(X_test)"
   ]
  },
  {
   "cell_type": "code",
   "execution_count": 7,
   "id": "64d9a512",
   "metadata": {},
   "outputs": [],
   "source": [
    "# Define the model\n",
    "model = Sequential()\n",
    "model.add(Dense(1, input_shape=(X_train.shape[1],)))"
   ]
  },
  {
   "cell_type": "code",
   "execution_count": 8,
   "id": "92369d9e",
   "metadata": {},
   "outputs": [],
   "source": [
    "# Compile the model\n",
    "model.compile(optimizer=Adam(learning_rate=0.001), loss='mean_squared_error')"
   ]
  },
  {
   "cell_type": "code",
   "execution_count": 9,
   "id": "ccf7bbd8",
   "metadata": {},
   "outputs": [
    {
     "name": "stdout",
     "output_type": "stream",
     "text": [
      "Epoch 1/100\n",
      "13/13 [==============================] - 0s 2ms/step - loss: 621.8481\n",
      "Epoch 2/100\n",
      "13/13 [==============================] - 0s 1ms/step - loss: 620.0386\n",
      "Epoch 3/100\n",
      "13/13 [==============================] - 0s 1ms/step - loss: 618.3451\n",
      "Epoch 4/100\n",
      "13/13 [==============================] - 0s 3ms/step - loss: 616.5827\n",
      "Epoch 5/100\n",
      "13/13 [==============================] - 0s 1ms/step - loss: 614.9416\n",
      "Epoch 6/100\n",
      "13/13 [==============================] - 0s 1ms/step - loss: 613.2490\n",
      "Epoch 7/100\n",
      "13/13 [==============================] - 0s 1ms/step - loss: 611.6380\n",
      "Epoch 8/100\n",
      "13/13 [==============================] - 0s 1ms/step - loss: 609.9159\n",
      "Epoch 9/100\n",
      "13/13 [==============================] - 0s 2ms/step - loss: 608.3231\n",
      "Epoch 10/100\n",
      "13/13 [==============================] - 0s 1ms/step - loss: 606.7449\n",
      "Epoch 11/100\n",
      "13/13 [==============================] - 0s 1ms/step - loss: 605.1939\n",
      "Epoch 12/100\n",
      "13/13 [==============================] - 0s 2ms/step - loss: 603.6301\n",
      "Epoch 13/100\n",
      "13/13 [==============================] - 0s 1ms/step - loss: 602.0886\n",
      "Epoch 14/100\n",
      "13/13 [==============================] - 0s 3ms/step - loss: 600.5937\n",
      "Epoch 15/100\n",
      "13/13 [==============================] - 0s 1ms/step - loss: 599.0882\n",
      "Epoch 16/100\n",
      "13/13 [==============================] - 0s 1ms/step - loss: 597.5121\n",
      "Epoch 17/100\n",
      "13/13 [==============================] - 0s 1ms/step - loss: 596.1537\n",
      "Epoch 18/100\n",
      "13/13 [==============================] - 0s 1ms/step - loss: 594.6455\n",
      "Epoch 19/100\n",
      "13/13 [==============================] - 0s 2ms/step - loss: 593.2252\n",
      "Epoch 20/100\n",
      "13/13 [==============================] - 0s 1ms/step - loss: 591.7982\n",
      "Epoch 21/100\n",
      "13/13 [==============================] - 0s 3ms/step - loss: 590.4070\n",
      "Epoch 22/100\n",
      "13/13 [==============================] - 0s 1ms/step - loss: 589.1606\n",
      "Epoch 23/100\n",
      "13/13 [==============================] - 0s 1ms/step - loss: 587.6775\n",
      "Epoch 24/100\n",
      "13/13 [==============================] - 0s 3ms/step - loss: 586.3961\n",
      "Epoch 25/100\n",
      "13/13 [==============================] - 0s 1ms/step - loss: 585.0814\n",
      "Epoch 26/100\n",
      "13/13 [==============================] - 0s 3ms/step - loss: 583.8134\n",
      "Epoch 27/100\n",
      "13/13 [==============================] - 0s 1ms/step - loss: 582.5052\n",
      "Epoch 28/100\n",
      "13/13 [==============================] - 0s 3ms/step - loss: 581.2462\n",
      "Epoch 29/100\n",
      "13/13 [==============================] - 0s 1ms/step - loss: 579.9968\n",
      "Epoch 30/100\n",
      "13/13 [==============================] - 0s 2ms/step - loss: 578.7222\n",
      "Epoch 31/100\n",
      "13/13 [==============================] - 0s 2ms/step - loss: 577.4659\n",
      "Epoch 32/100\n",
      "13/13 [==============================] - 0s 1ms/step - loss: 576.2485\n",
      "Epoch 33/100\n",
      "13/13 [==============================] - 0s 3ms/step - loss: 575.0609\n",
      "Epoch 34/100\n",
      "13/13 [==============================] - 0s 2ms/step - loss: 573.8486\n",
      "Epoch 35/100\n",
      "13/13 [==============================] - 0s 2ms/step - loss: 572.7104\n",
      "Epoch 36/100\n",
      "13/13 [==============================] - 0s 2ms/step - loss: 571.5347\n",
      "Epoch 37/100\n",
      "13/13 [==============================] - 0s 2ms/step - loss: 570.4000\n",
      "Epoch 38/100\n",
      "13/13 [==============================] - 0s 2ms/step - loss: 569.2196\n",
      "Epoch 39/100\n",
      "13/13 [==============================] - 0s 2ms/step - loss: 568.1003\n",
      "Epoch 40/100\n",
      "13/13 [==============================] - 0s 3ms/step - loss: 566.9614\n",
      "Epoch 41/100\n",
      "13/13 [==============================] - 0s 2ms/step - loss: 565.8727\n",
      "Epoch 42/100\n",
      "13/13 [==============================] - 0s 2ms/step - loss: 564.7355\n",
      "Epoch 43/100\n",
      "13/13 [==============================] - 0s 2ms/step - loss: 563.6539\n",
      "Epoch 44/100\n",
      "13/13 [==============================] - 0s 1ms/step - loss: 562.5792\n",
      "Epoch 45/100\n",
      "13/13 [==============================] - 0s 2ms/step - loss: 561.5251\n",
      "Epoch 46/100\n",
      "13/13 [==============================] - 0s 1ms/step - loss: 560.4717\n",
      "Epoch 47/100\n",
      "13/13 [==============================] - 0s 2ms/step - loss: 559.4525\n",
      "Epoch 48/100\n",
      "13/13 [==============================] - 0s 1ms/step - loss: 558.4019\n",
      "Epoch 49/100\n",
      "13/13 [==============================] - 0s 2ms/step - loss: 557.3691\n",
      "Epoch 50/100\n",
      "13/13 [==============================] - 0s 1ms/step - loss: 556.3184\n",
      "Epoch 51/100\n",
      "13/13 [==============================] - 0s 3ms/step - loss: 555.3055\n",
      "Epoch 52/100\n",
      "13/13 [==============================] - 0s 1ms/step - loss: 554.2879\n",
      "Epoch 53/100\n",
      "13/13 [==============================] - 0s 2ms/step - loss: 553.2905\n",
      "Epoch 54/100\n",
      "13/13 [==============================] - 0s 4ms/step - loss: 552.2748\n",
      "Epoch 55/100\n",
      "13/13 [==============================] - 0s 1ms/step - loss: 551.3296\n",
      "Epoch 56/100\n",
      "13/13 [==============================] - 0s 299us/step - loss: 550.3281\n",
      "Epoch 57/100\n",
      "13/13 [==============================] - 0s 1ms/step - loss: 549.3330\n",
      "Epoch 58/100\n",
      "13/13 [==============================] - 0s 1ms/step - loss: 548.3635\n",
      "Epoch 59/100\n",
      "13/13 [==============================] - 0s 836us/step - loss: 547.4483\n",
      "Epoch 60/100\n",
      "13/13 [==============================] - 0s 918us/step - loss: 546.5060\n",
      "Epoch 61/100\n",
      "13/13 [==============================] - 0s 2ms/step - loss: 545.5575\n",
      "Epoch 62/100\n",
      "13/13 [==============================] - 0s 1ms/step - loss: 544.6686\n",
      "Epoch 63/100\n",
      "13/13 [==============================] - 0s 700us/step - loss: 543.7429\n",
      "Epoch 64/100\n",
      "13/13 [==============================] - 0s 2ms/step - loss: 542.7973\n",
      "Epoch 65/100\n",
      "13/13 [==============================] - 0s 995us/step - loss: 541.9048\n",
      "Epoch 66/100\n",
      "13/13 [==============================] - 0s 707us/step - loss: 540.9854\n",
      "Epoch 67/100\n",
      "13/13 [==============================] - 0s 1ms/step - loss: 540.1176\n",
      "Epoch 68/100\n",
      "13/13 [==============================] - 0s 1ms/step - loss: 539.2194\n",
      "Epoch 69/100\n",
      "13/13 [==============================] - 0s 2ms/step - loss: 538.3189\n",
      "Epoch 70/100\n",
      "13/13 [==============================] - 0s 816us/step - loss: 537.4683\n",
      "Epoch 71/100\n",
      "13/13 [==============================] - 0s 1ms/step - loss: 536.6329\n",
      "Epoch 72/100\n",
      "13/13 [==============================] - 0s 1ms/step - loss: 535.7036\n",
      "Epoch 73/100\n",
      "13/13 [==============================] - 0s 844us/step - loss: 534.8864\n",
      "Epoch 74/100\n",
      "13/13 [==============================] - 0s 758us/step - loss: 534.0333\n",
      "Epoch 75/100\n",
      "13/13 [==============================] - 0s 1ms/step - loss: 533.1833\n",
      "Epoch 76/100\n",
      "13/13 [==============================] - 0s 1ms/step - loss: 532.3325\n",
      "Epoch 77/100\n",
      "13/13 [==============================] - 0s 2ms/step - loss: 531.5039\n",
      "Epoch 78/100\n",
      "13/13 [==============================] - 0s 1ms/step - loss: 530.7267\n",
      "Epoch 79/100\n",
      "13/13 [==============================] - 0s 1ms/step - loss: 529.8422\n",
      "Epoch 80/100\n",
      "13/13 [==============================] - 0s 1ms/step - loss: 529.0950\n",
      "Epoch 81/100\n",
      "13/13 [==============================] - 0s 862us/step - loss: 528.2178\n",
      "Epoch 82/100\n",
      "13/13 [==============================] - 0s 1ms/step - loss: 527.4229\n",
      "Epoch 83/100\n",
      "13/13 [==============================] - 0s 1ms/step - loss: 526.6128\n",
      "Epoch 84/100\n",
      "13/13 [==============================] - 0s 1ms/step - loss: 525.7946\n",
      "Epoch 85/100\n",
      "13/13 [==============================] - 0s 1ms/step - loss: 525.0045\n",
      "Epoch 86/100\n",
      "13/13 [==============================] - 0s 1ms/step - loss: 524.2509\n",
      "Epoch 87/100\n",
      "13/13 [==============================] - 0s 1ms/step - loss: 523.4283\n",
      "Epoch 88/100\n",
      "13/13 [==============================] - 0s 1ms/step - loss: 522.6990\n",
      "Epoch 89/100\n",
      "13/13 [==============================] - 0s 834us/step - loss: 521.8582\n",
      "Epoch 90/100\n",
      "13/13 [==============================] - 0s 1ms/step - loss: 521.1158\n",
      "Epoch 91/100\n",
      "13/13 [==============================] - 0s 1ms/step - loss: 520.3296\n",
      "Epoch 92/100\n",
      "13/13 [==============================] - 0s 1ms/step - loss: 519.5663\n",
      "Epoch 93/100\n",
      "13/13 [==============================] - 0s 982us/step - loss: 518.7732\n",
      "Epoch 94/100\n",
      "13/13 [==============================] - 0s 2ms/step - loss: 518.0264\n",
      "Epoch 95/100\n",
      "13/13 [==============================] - 0s 1ms/step - loss: 517.2890\n",
      "Epoch 96/100\n",
      "13/13 [==============================] - 0s 1ms/step - loss: 516.5095\n",
      "Epoch 97/100\n",
      "13/13 [==============================] - 0s 834us/step - loss: 515.7626\n",
      "Epoch 98/100\n",
      "13/13 [==============================] - 0s 1ms/step - loss: 515.0074\n",
      "Epoch 99/100\n",
      "13/13 [==============================] - 0s 1ms/step - loss: 514.2697\n",
      "Epoch 100/100\n",
      "13/13 [==============================] - 0s 912us/step - loss: 513.5353\n"
     ]
    },
    {
     "data": {
      "text/plain": [
       "<keras.callbacks.History at 0x1c95dad1c90>"
      ]
     },
     "execution_count": 9,
     "metadata": {},
     "output_type": "execute_result"
    }
   ],
   "source": [
    "# Train the model\n",
    "model.fit(X_train, y_train, batch_size=32, epochs=100, verbose=1)"
   ]
  },
  {
   "cell_type": "code",
   "execution_count": 10,
   "id": "5cf45413",
   "metadata": {},
   "outputs": [
    {
     "name": "stdout",
     "output_type": "stream",
     "text": [
      "Test Loss: 467.56988525390625\n"
     ]
    }
   ],
   "source": [
    "# Evaluate the model\n",
    "loss = model.evaluate(X_test, y_test, verbose=0)\n",
    "print('Test Loss:', loss)"
   ]
  },
  {
   "cell_type": "code",
   "execution_count": 11,
   "id": "d7844c33",
   "metadata": {},
   "outputs": [
    {
     "name": "stdout",
     "output_type": "stream",
     "text": [
      "4/4 [==============================] - 0s 4ms/step\n"
     ]
    }
   ],
   "source": [
    "# Make predictions\n",
    "predictions = model.predict(X_test)"
   ]
  },
  {
   "cell_type": "code",
   "execution_count": 12,
   "id": "9ecfd588",
   "metadata": {},
   "outputs": [
    {
     "name": "stdout",
     "output_type": "stream",
     "text": [
      "Predicted: 3.6444678 Actual: 23.6\n",
      "Predicted: 8.549672 Actual: 32.4\n",
      "Predicted: -3.5422988 Actual: 13.6\n",
      "Predicted: 3.9455447 Actual: 22.8\n",
      "Predicted: -3.1608672 Actual: 16.1\n",
      "Predicted: 1.6004004 Actual: 20.0\n",
      "Predicted: 0.95480293 Actual: 17.8\n",
      "Predicted: -2.1799207 Actual: 14.0\n",
      "Predicted: -1.6410667 Actual: 19.6\n",
      "Predicted: 1.0158644 Actual: 16.8\n"
     ]
    }
   ],
   "source": [
    "# Print some predictions and actual values\n",
    "for i in range(10):\n",
    "    print('Predicted:', predictions[i][0], 'Actual:', y_test.iloc[i])"
   ]
  },
  {
   "cell_type": "code",
   "execution_count": null,
   "id": "ac925960",
   "metadata": {},
   "outputs": [],
   "source": []
  }
 ],
 "metadata": {
  "kernelspec": {
   "display_name": "Python 3 (ipykernel)",
   "language": "python",
   "name": "python3"
  },
  "language_info": {
   "codemirror_mode": {
    "name": "ipython",
    "version": 3
   },
   "file_extension": ".py",
   "mimetype": "text/x-python",
   "name": "python",
   "nbconvert_exporter": "python",
   "pygments_lexer": "ipython3",
   "version": "3.11.0"
  }
 },
 "nbformat": 4,
 "nbformat_minor": 5
}
